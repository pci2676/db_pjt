{
 "cells": [
  {
   "cell_type": "markdown",
   "metadata": {},
   "source": [
    "필요한 모듈과 라이브러리들을 가져 옴"
   ]
  },
  {
   "cell_type": "code",
   "execution_count": 1,
   "metadata": {},
   "outputs": [],
   "source": [
    "#import the libraries For data analysis \n",
    "import sys\n",
    "import pandas as pd\n",
    "import matplotlib\n",
    "import numpy as np\n",
    "import scipy as sp\n",
    "import IPython\n",
    "import sklearn"
   ]
  },
  {
   "cell_type": "code",
   "execution_count": 2,
   "metadata": {},
   "outputs": [],
   "source": [
    "#Common Model Algorithms\n",
    "from sklearn import svm, tree, linear_model, neighbors, naive_bayes, ensemble, discriminant_analysis, gaussian_process\n",
    "\n",
    "#Common Model Helpers\n",
    "from sklearn.preprocessing import OneHotEncoder, LabelEncoder\n",
    "from sklearn import feature_selection\n",
    "from sklearn import model_selection\n",
    "from sklearn import metrics\n",
    "\n",
    "#Visualization\n",
    "import matplotlib as mpl\n",
    "import matplotlib.pyplot as plt\n",
    "import matplotlib.pylab as pylab\n",
    "import seaborn as sns\n",
    "from pandas.tools.plotting import scatter_matrix"
   ]
  },
  {
   "cell_type": "markdown",
   "metadata": {},
   "source": [
    "matplotlib에서 한글이 깨지는 상황을 막기위해 코드 삽입"
   ]
  },
  {
   "cell_type": "code",
   "execution_count": 3,
   "metadata": {},
   "outputs": [],
   "source": [
    "%matplotlib inline\n",
    "\n",
    "import platform\n",
    "path=\"c:/Windows/Fonts/malgun.ttf\"\n",
    "from matplotlib import font_manager, rc\n",
    "\n",
    "if platform.system()=='Darwin':\n",
    "    rc('font', family='AppleGothic')\n",
    "elif platform.system() =='Windows':\n",
    "    font_name = font_manager.FontProperties(fname=path).get_name()\n",
    "    rc('font', family = font_name)\n",
    "else:\n",
    "    print('Unknown system')"
   ]
  },
  {
   "cell_type": "markdown",
   "metadata": {},
   "source": [
    "이미 가지고 있는 교통사고, 인구, 범죄, 세금 데이터들을 가공해 만든 임의의 통합데이터를 사용함"
   ]
  },
  {
   "cell_type": "code",
   "execution_count": 6,
   "metadata": {
    "scrolled": false
   },
   "outputs": [],
   "source": [
    "#Load the convert data\n",
    "data_2015 = pd.read_csv('./data/통합/2015통합.csv', engine='python')\n",
    "data_2016=  pd.read_csv('./data/통합/2016통합.csv', engine='python')\n"
   ]
  },
  {
   "cell_type": "code",
   "execution_count": 12,
   "metadata": {},
   "outputs": [
    {
     "data": {
      "text/html": [
       "<div>\n",
       "<style scoped>\n",
       "    .dataframe tbody tr th:only-of-type {\n",
       "        vertical-align: middle;\n",
       "    }\n",
       "\n",
       "    .dataframe tbody tr th {\n",
       "        vertical-align: top;\n",
       "    }\n",
       "\n",
       "    .dataframe thead th {\n",
       "        text-align: right;\n",
       "    }\n",
       "</style>\n",
       "<table border=\"1\" class=\"dataframe\">\n",
       "  <thead>\n",
       "    <tr style=\"text-align: right;\">\n",
       "      <th></th>\n",
       "      <th>crimeRate</th>\n",
       "      <th>city_idx</th>\n",
       "      <th>total</th>\n",
       "      <th>out_per</th>\n",
       "      <th>total_m</th>\n",
       "      <th>total_w</th>\n",
       "      <th>out_m</th>\n",
       "      <th>out_w</th>\n",
       "      <th>suicide_rate</th>\n",
       "      <th>tax</th>\n",
       "      <th>death</th>\n",
       "      <th>injured</th>\n",
       "      <th>cctv</th>\n",
       "      <th>city_id</th>\n",
       "      <th>city_name</th>\n",
       "      <th>district_name</th>\n",
       "      <th>year</th>\n",
       "      <th>per_tax</th>\n",
       "    </tr>\n",
       "    <tr>\n",
       "      <th>city</th>\n",
       "      <th></th>\n",
       "      <th></th>\n",
       "      <th></th>\n",
       "      <th></th>\n",
       "      <th></th>\n",
       "      <th></th>\n",
       "      <th></th>\n",
       "      <th></th>\n",
       "      <th></th>\n",
       "      <th></th>\n",
       "      <th></th>\n",
       "      <th></th>\n",
       "      <th></th>\n",
       "      <th></th>\n",
       "      <th></th>\n",
       "      <th></th>\n",
       "      <th></th>\n",
       "      <th></th>\n",
       "    </tr>\n",
       "  </thead>\n",
       "  <tbody>\n",
       "    <tr>\n",
       "      <th>서울특별시 서울</th>\n",
       "      <td>0.007215</td>\n",
       "      <td>1</td>\n",
       "      <td>9904312</td>\n",
       "      <td>0.0340</td>\n",
       "      <td>4859535</td>\n",
       "      <td>5044777</td>\n",
       "      <td>165218</td>\n",
       "      <td>171898</td>\n",
       "      <td>19.9</td>\n",
       "      <td>9169412842</td>\n",
       "      <td>376</td>\n",
       "      <td>591</td>\n",
       "      <td>44457</td>\n",
       "      <td>1</td>\n",
       "      <td>서울특별시</td>\n",
       "      <td>서울</td>\n",
       "      <td>2015</td>\n",
       "      <td>925.800080</td>\n",
       "    </tr>\n",
       "    <tr>\n",
       "      <th>인천광역시 인천</th>\n",
       "      <td>0.006780</td>\n",
       "      <td>2</td>\n",
       "      <td>2890451</td>\n",
       "      <td>0.0235</td>\n",
       "      <td>1455017</td>\n",
       "      <td>1435434</td>\n",
       "      <td>40224</td>\n",
       "      <td>27626</td>\n",
       "      <td>24.1</td>\n",
       "      <td>1764120424</td>\n",
       "      <td>136</td>\n",
       "      <td>255</td>\n",
       "      <td>8680</td>\n",
       "      <td>2</td>\n",
       "      <td>인천광역시</td>\n",
       "      <td>인천</td>\n",
       "      <td>2015</td>\n",
       "      <td>610.327047</td>\n",
       "    </tr>\n",
       "    <tr>\n",
       "      <th>제주특별자치도 제주</th>\n",
       "      <td>0.009765</td>\n",
       "      <td>3</td>\n",
       "      <td>605619</td>\n",
       "      <td>0.0250</td>\n",
       "      <td>304789</td>\n",
       "      <td>300830</td>\n",
       "      <td>8914</td>\n",
       "      <td>6232</td>\n",
       "      <td>22.3</td>\n",
       "      <td>509905893</td>\n",
       "      <td>93</td>\n",
       "      <td>145</td>\n",
       "      <td>2249</td>\n",
       "      <td>3</td>\n",
       "      <td>제주특별자치도</td>\n",
       "      <td>제주</td>\n",
       "      <td>2015</td>\n",
       "      <td>841.958216</td>\n",
       "    </tr>\n",
       "    <tr>\n",
       "      <th>세종특별자치시 세종</th>\n",
       "      <td>0.002440</td>\n",
       "      <td>4</td>\n",
       "      <td>204088</td>\n",
       "      <td>0.0219</td>\n",
       "      <td>103210</td>\n",
       "      <td>100878</td>\n",
       "      <td>2755</td>\n",
       "      <td>1716</td>\n",
       "      <td>19.7</td>\n",
       "      <td>328603432</td>\n",
       "      <td>19</td>\n",
       "      <td>24</td>\n",
       "      <td>1848</td>\n",
       "      <td>4</td>\n",
       "      <td>세종특별자치시</td>\n",
       "      <td>세종</td>\n",
       "      <td>2015</td>\n",
       "      <td>1610.106581</td>\n",
       "    </tr>\n",
       "    <tr>\n",
       "      <th>대전광역시 대전</th>\n",
       "      <td>0.006199</td>\n",
       "      <td>5</td>\n",
       "      <td>1538394</td>\n",
       "      <td>0.0124</td>\n",
       "      <td>772243</td>\n",
       "      <td>766151</td>\n",
       "      <td>8933</td>\n",
       "      <td>10147</td>\n",
       "      <td>24.5</td>\n",
       "      <td>585202673</td>\n",
       "      <td>97</td>\n",
       "      <td>143</td>\n",
       "      <td>6356</td>\n",
       "      <td>5</td>\n",
       "      <td>대전광역시</td>\n",
       "      <td>대전</td>\n",
       "      <td>2015</td>\n",
       "      <td>380.398437</td>\n",
       "    </tr>\n",
       "  </tbody>\n",
       "</table>\n",
       "</div>"
      ],
      "text/plain": [
       "            crimeRate  city_idx    total  out_per  total_m  total_w   out_m  \\\n",
       "city                                                                          \n",
       "서울특별시 서울     0.007215         1  9904312   0.0340  4859535  5044777  165218   \n",
       "인천광역시 인천     0.006780         2  2890451   0.0235  1455017  1435434   40224   \n",
       "제주특별자치도 제주   0.009765         3   605619   0.0250   304789   300830    8914   \n",
       "세종특별자치시 세종   0.002440         4   204088   0.0219   103210   100878    2755   \n",
       "대전광역시 대전     0.006199         5  1538394   0.0124   772243   766151    8933   \n",
       "\n",
       "             out_w  suicide_rate         tax  death  injured   cctv  city_id  \\\n",
       "city                                                                           \n",
       "서울특별시 서울    171898          19.9  9169412842    376      591  44457        1   \n",
       "인천광역시 인천     27626          24.1  1764120424    136      255   8680        2   \n",
       "제주특별자치도 제주    6232          22.3   509905893     93      145   2249        3   \n",
       "세종특별자치시 세종    1716          19.7   328603432     19       24   1848        4   \n",
       "대전광역시 대전     10147          24.5   585202673     97      143   6356        5   \n",
       "\n",
       "           city_name district_name  year      per_tax  \n",
       "city                                                   \n",
       "서울특별시 서울       서울특별시            서울  2015   925.800080  \n",
       "인천광역시 인천       인천광역시            인천  2015   610.327047  \n",
       "제주특별자치도 제주   제주특별자치도            제주  2015   841.958216  \n",
       "세종특별자치시 세종   세종특별자치시            세종  2015  1610.106581  \n",
       "대전광역시 대전       대전광역시            대전  2015   380.398437  "
      ]
     },
     "execution_count": 12,
     "metadata": {},
     "output_type": "execute_result"
    }
   ],
   "source": [
    "data_2015.head()"
   ]
  },
  {
   "cell_type": "markdown",
   "metadata": {},
   "source": [
    "두개의 데이터를 합쳐 하나의 total data로 한 후 작업을 실시\n",
    "\n",
    "그러기 위해서는 데이터 구분을 위한 column 추가"
   ]
  },
  {
   "cell_type": "code",
   "execution_count": 7,
   "metadata": {
    "scrolled": true
   },
   "outputs": [
    {
     "data": {
      "text/html": [
       "<div>\n",
       "<style scoped>\n",
       "    .dataframe tbody tr th:only-of-type {\n",
       "        vertical-align: middle;\n",
       "    }\n",
       "\n",
       "    .dataframe tbody tr th {\n",
       "        vertical-align: top;\n",
       "    }\n",
       "\n",
       "    .dataframe thead th {\n",
       "        text-align: right;\n",
       "    }\n",
       "</style>\n",
       "<table border=\"1\" class=\"dataframe\">\n",
       "  <thead>\n",
       "    <tr style=\"text-align: right;\">\n",
       "      <th></th>\n",
       "      <th>crimeRate</th>\n",
       "      <th>city_idx</th>\n",
       "      <th>total</th>\n",
       "      <th>out_per</th>\n",
       "      <th>total_m</th>\n",
       "      <th>total_w</th>\n",
       "      <th>out_m</th>\n",
       "      <th>out_w</th>\n",
       "      <th>suicide_rate</th>\n",
       "      <th>tax</th>\n",
       "      <th>death</th>\n",
       "      <th>injured</th>\n",
       "      <th>cctv</th>\n",
       "      <th>city_id</th>\n",
       "      <th>city_name</th>\n",
       "      <th>district_name</th>\n",
       "      <th>year</th>\n",
       "      <th>per_tax</th>\n",
       "    </tr>\n",
       "  </thead>\n",
       "  <tbody>\n",
       "    <tr>\n",
       "      <th>0</th>\n",
       "      <td>0.007215</td>\n",
       "      <td>1</td>\n",
       "      <td>9904312</td>\n",
       "      <td>0.0340</td>\n",
       "      <td>4859535</td>\n",
       "      <td>5044777</td>\n",
       "      <td>165218</td>\n",
       "      <td>171898</td>\n",
       "      <td>19.9</td>\n",
       "      <td>9169412842</td>\n",
       "      <td>376</td>\n",
       "      <td>591</td>\n",
       "      <td>44457</td>\n",
       "      <td>1</td>\n",
       "      <td>서울특별시</td>\n",
       "      <td>서울</td>\n",
       "      <td>2015</td>\n",
       "      <td>925.800080</td>\n",
       "    </tr>\n",
       "    <tr>\n",
       "      <th>1</th>\n",
       "      <td>0.006780</td>\n",
       "      <td>2</td>\n",
       "      <td>2890451</td>\n",
       "      <td>0.0235</td>\n",
       "      <td>1455017</td>\n",
       "      <td>1435434</td>\n",
       "      <td>40224</td>\n",
       "      <td>27626</td>\n",
       "      <td>24.1</td>\n",
       "      <td>1764120424</td>\n",
       "      <td>136</td>\n",
       "      <td>255</td>\n",
       "      <td>8680</td>\n",
       "      <td>2</td>\n",
       "      <td>인천광역시</td>\n",
       "      <td>인천</td>\n",
       "      <td>2015</td>\n",
       "      <td>610.327047</td>\n",
       "    </tr>\n",
       "    <tr>\n",
       "      <th>2</th>\n",
       "      <td>0.009765</td>\n",
       "      <td>3</td>\n",
       "      <td>605619</td>\n",
       "      <td>0.0250</td>\n",
       "      <td>304789</td>\n",
       "      <td>300830</td>\n",
       "      <td>8914</td>\n",
       "      <td>6232</td>\n",
       "      <td>22.3</td>\n",
       "      <td>509905893</td>\n",
       "      <td>93</td>\n",
       "      <td>145</td>\n",
       "      <td>2249</td>\n",
       "      <td>3</td>\n",
       "      <td>제주특별자치도</td>\n",
       "      <td>제주</td>\n",
       "      <td>2015</td>\n",
       "      <td>841.958216</td>\n",
       "    </tr>\n",
       "    <tr>\n",
       "      <th>3</th>\n",
       "      <td>0.002440</td>\n",
       "      <td>4</td>\n",
       "      <td>204088</td>\n",
       "      <td>0.0219</td>\n",
       "      <td>103210</td>\n",
       "      <td>100878</td>\n",
       "      <td>2755</td>\n",
       "      <td>1716</td>\n",
       "      <td>19.7</td>\n",
       "      <td>328603432</td>\n",
       "      <td>19</td>\n",
       "      <td>24</td>\n",
       "      <td>1848</td>\n",
       "      <td>4</td>\n",
       "      <td>세종특별자치시</td>\n",
       "      <td>세종</td>\n",
       "      <td>2015</td>\n",
       "      <td>1610.106581</td>\n",
       "    </tr>\n",
       "    <tr>\n",
       "      <th>4</th>\n",
       "      <td>0.006199</td>\n",
       "      <td>5</td>\n",
       "      <td>1538394</td>\n",
       "      <td>0.0124</td>\n",
       "      <td>772243</td>\n",
       "      <td>766151</td>\n",
       "      <td>8933</td>\n",
       "      <td>10147</td>\n",
       "      <td>24.5</td>\n",
       "      <td>585202673</td>\n",
       "      <td>97</td>\n",
       "      <td>143</td>\n",
       "      <td>6356</td>\n",
       "      <td>5</td>\n",
       "      <td>대전광역시</td>\n",
       "      <td>대전</td>\n",
       "      <td>2015</td>\n",
       "      <td>380.398437</td>\n",
       "    </tr>\n",
       "  </tbody>\n",
       "</table>\n",
       "</div>"
      ],
      "text/plain": [
       "   crimeRate  city_idx    total  out_per  total_m  total_w   out_m   out_w  \\\n",
       "0   0.007215         1  9904312   0.0340  4859535  5044777  165218  171898   \n",
       "1   0.006780         2  2890451   0.0235  1455017  1435434   40224   27626   \n",
       "2   0.009765         3   605619   0.0250   304789   300830    8914    6232   \n",
       "3   0.002440         4   204088   0.0219   103210   100878    2755    1716   \n",
       "4   0.006199         5  1538394   0.0124   772243   766151    8933   10147   \n",
       "\n",
       "   suicide_rate         tax  death  injured   cctv  city_id city_name  \\\n",
       "0          19.9  9169412842    376      591  44457        1     서울특별시   \n",
       "1          24.1  1764120424    136      255   8680        2     인천광역시   \n",
       "2          22.3   509905893     93      145   2249        3   제주특별자치도   \n",
       "3          19.7   328603432     19       24   1848        4   세종특별자치시   \n",
       "4          24.5   585202673     97      143   6356        5     대전광역시   \n",
       "\n",
       "  district_name  year      per_tax  \n",
       "0            서울  2015   925.800080  \n",
       "1            인천  2015   610.327047  \n",
       "2            제주  2015   841.958216  \n",
       "3            세종  2015  1610.106581  \n",
       "4            대전  2015   380.398437  "
      ]
     },
     "execution_count": 7,
     "metadata": {},
     "output_type": "execute_result"
    }
   ],
   "source": [
    "data_2015['year'] = 2015\n",
    "data_2016['year'] = 2016\n",
    "data_2015['per_tax'] = data_2015['tax'] / data_2015['total']\n",
    "data_2016['per_tax'] = data_2016['tax'] / data_2016['total']\n",
    "data_2015.head()"
   ]
  },
  {
   "cell_type": "markdown",
   "metadata": {},
   "source": [
    "구분하기 편하게 district_name과 city_name을 합쳐 하나의 city 속성으로 하고\n",
    "\n",
    "그 속성을 index로 변환"
   ]
  },
  {
   "cell_type": "code",
   "execution_count": 8,
   "metadata": {},
   "outputs": [],
   "source": [
    "data_2015['city'] = data_2015['city_name'] +' ' +data_2015['district_name']\n",
    "data_2015.set_index('city', inplace=True)\n",
    "data_2016['city'] = data_2016['city_name'] +' ' +data_2016['district_name']\n",
    "data_2016.set_index('city', inplace=True)"
   ]
  },
  {
   "cell_type": "code",
   "execution_count": 10,
   "metadata": {},
   "outputs": [
    {
     "name": "stderr",
     "output_type": "stream",
     "text": [
      "C:\\Users\\Pandahun\\Anaconda3\\envs\\tensorflow36\\lib\\site-packages\\ipykernel_launcher.py:1: FutureWarning: Sorting because non-concatenation axis is not aligned. A future version\n",
      "of pandas will change to not sort by default.\n",
      "\n",
      "To accept the future behavior, pass 'sort=True'.\n",
      "\n",
      "To retain the current behavior and silence the warning, pass sort=False\n",
      "\n",
      "  \"\"\"Entry point for launching an IPython kernel.\n"
     ]
    }
   ],
   "source": [
    "total_data = pd.concat([data_2015, data_2016])"
   ]
  },
  {
   "cell_type": "code",
   "execution_count": 11,
   "metadata": {
    "scrolled": true
   },
   "outputs": [
    {
     "data": {
      "text/html": [
       "<div>\n",
       "<style scoped>\n",
       "    .dataframe tbody tr th:only-of-type {\n",
       "        vertical-align: middle;\n",
       "    }\n",
       "\n",
       "    .dataframe tbody tr th {\n",
       "        vertical-align: top;\n",
       "    }\n",
       "\n",
       "    .dataframe thead th {\n",
       "        text-align: right;\n",
       "    }\n",
       "</style>\n",
       "<table border=\"1\" class=\"dataframe\">\n",
       "  <thead>\n",
       "    <tr style=\"text-align: right;\">\n",
       "      <th></th>\n",
       "      <th>cctv</th>\n",
       "      <th>city_id</th>\n",
       "      <th>city_idx</th>\n",
       "      <th>city_name</th>\n",
       "      <th>crimeRate</th>\n",
       "      <th>death</th>\n",
       "      <th>district_name</th>\n",
       "      <th>injured</th>\n",
       "      <th>out_m</th>\n",
       "      <th>out_per</th>\n",
       "      <th>out_w</th>\n",
       "      <th>per_tax</th>\n",
       "      <th>suicide_rate</th>\n",
       "      <th>tax</th>\n",
       "      <th>total</th>\n",
       "      <th>total_m</th>\n",
       "      <th>total_old</th>\n",
       "      <th>total_w</th>\n",
       "      <th>year</th>\n",
       "    </tr>\n",
       "    <tr>\n",
       "      <th>city</th>\n",
       "      <th></th>\n",
       "      <th></th>\n",
       "      <th></th>\n",
       "      <th></th>\n",
       "      <th></th>\n",
       "      <th></th>\n",
       "      <th></th>\n",
       "      <th></th>\n",
       "      <th></th>\n",
       "      <th></th>\n",
       "      <th></th>\n",
       "      <th></th>\n",
       "      <th></th>\n",
       "      <th></th>\n",
       "      <th></th>\n",
       "      <th></th>\n",
       "      <th></th>\n",
       "      <th></th>\n",
       "      <th></th>\n",
       "    </tr>\n",
       "  </thead>\n",
       "  <tbody>\n",
       "    <tr>\n",
       "      <th>서울특별시 서울</th>\n",
       "      <td>44457</td>\n",
       "      <td>1</td>\n",
       "      <td>1</td>\n",
       "      <td>서울특별시</td>\n",
       "      <td>0.007215</td>\n",
       "      <td>376</td>\n",
       "      <td>서울</td>\n",
       "      <td>591</td>\n",
       "      <td>165218</td>\n",
       "      <td>0.0340</td>\n",
       "      <td>171898</td>\n",
       "      <td>925.800080</td>\n",
       "      <td>19.9</td>\n",
       "      <td>9169412842</td>\n",
       "      <td>9904312</td>\n",
       "      <td>4859535</td>\n",
       "      <td>NaN</td>\n",
       "      <td>5044777</td>\n",
       "      <td>2015</td>\n",
       "    </tr>\n",
       "    <tr>\n",
       "      <th>인천광역시 인천</th>\n",
       "      <td>8680</td>\n",
       "      <td>2</td>\n",
       "      <td>2</td>\n",
       "      <td>인천광역시</td>\n",
       "      <td>0.006780</td>\n",
       "      <td>136</td>\n",
       "      <td>인천</td>\n",
       "      <td>255</td>\n",
       "      <td>40224</td>\n",
       "      <td>0.0235</td>\n",
       "      <td>27626</td>\n",
       "      <td>610.327047</td>\n",
       "      <td>24.1</td>\n",
       "      <td>1764120424</td>\n",
       "      <td>2890451</td>\n",
       "      <td>1455017</td>\n",
       "      <td>NaN</td>\n",
       "      <td>1435434</td>\n",
       "      <td>2015</td>\n",
       "    </tr>\n",
       "    <tr>\n",
       "      <th>제주특별자치도 제주</th>\n",
       "      <td>2249</td>\n",
       "      <td>3</td>\n",
       "      <td>3</td>\n",
       "      <td>제주특별자치도</td>\n",
       "      <td>0.009765</td>\n",
       "      <td>93</td>\n",
       "      <td>제주</td>\n",
       "      <td>145</td>\n",
       "      <td>8914</td>\n",
       "      <td>0.0250</td>\n",
       "      <td>6232</td>\n",
       "      <td>841.958216</td>\n",
       "      <td>22.3</td>\n",
       "      <td>509905893</td>\n",
       "      <td>605619</td>\n",
       "      <td>304789</td>\n",
       "      <td>NaN</td>\n",
       "      <td>300830</td>\n",
       "      <td>2015</td>\n",
       "    </tr>\n",
       "    <tr>\n",
       "      <th>세종특별자치시 세종</th>\n",
       "      <td>1848</td>\n",
       "      <td>4</td>\n",
       "      <td>4</td>\n",
       "      <td>세종특별자치시</td>\n",
       "      <td>0.002440</td>\n",
       "      <td>19</td>\n",
       "      <td>세종</td>\n",
       "      <td>24</td>\n",
       "      <td>2755</td>\n",
       "      <td>0.0219</td>\n",
       "      <td>1716</td>\n",
       "      <td>1610.106581</td>\n",
       "      <td>19.7</td>\n",
       "      <td>328603432</td>\n",
       "      <td>204088</td>\n",
       "      <td>103210</td>\n",
       "      <td>NaN</td>\n",
       "      <td>100878</td>\n",
       "      <td>2015</td>\n",
       "    </tr>\n",
       "    <tr>\n",
       "      <th>대전광역시 대전</th>\n",
       "      <td>6356</td>\n",
       "      <td>5</td>\n",
       "      <td>5</td>\n",
       "      <td>대전광역시</td>\n",
       "      <td>0.006199</td>\n",
       "      <td>97</td>\n",
       "      <td>대전</td>\n",
       "      <td>143</td>\n",
       "      <td>8933</td>\n",
       "      <td>0.0124</td>\n",
       "      <td>10147</td>\n",
       "      <td>380.398437</td>\n",
       "      <td>24.5</td>\n",
       "      <td>585202673</td>\n",
       "      <td>1538394</td>\n",
       "      <td>772243</td>\n",
       "      <td>NaN</td>\n",
       "      <td>766151</td>\n",
       "      <td>2015</td>\n",
       "    </tr>\n",
       "  </tbody>\n",
       "</table>\n",
       "</div>"
      ],
      "text/plain": [
       "             cctv  city_id  city_idx city_name  crimeRate  death  \\\n",
       "city                                                               \n",
       "서울특별시 서울    44457        1         1     서울특별시   0.007215    376   \n",
       "인천광역시 인천     8680        2         2     인천광역시   0.006780    136   \n",
       "제주특별자치도 제주   2249        3         3   제주특별자치도   0.009765     93   \n",
       "세종특별자치시 세종   1848        4         4   세종특별자치시   0.002440     19   \n",
       "대전광역시 대전     6356        5         5     대전광역시   0.006199     97   \n",
       "\n",
       "           district_name  injured   out_m  out_per   out_w      per_tax  \\\n",
       "city                                                                      \n",
       "서울특별시 서울              서울      591  165218   0.0340  171898   925.800080   \n",
       "인천광역시 인천              인천      255   40224   0.0235   27626   610.327047   \n",
       "제주특별자치도 제주            제주      145    8914   0.0250    6232   841.958216   \n",
       "세종특별자치시 세종            세종       24    2755   0.0219    1716  1610.106581   \n",
       "대전광역시 대전              대전      143    8933   0.0124   10147   380.398437   \n",
       "\n",
       "            suicide_rate         tax    total  total_m  total_old  total_w  \\\n",
       "city                                                                         \n",
       "서울특별시 서울            19.9  9169412842  9904312  4859535        NaN  5044777   \n",
       "인천광역시 인천            24.1  1764120424  2890451  1455017        NaN  1435434   \n",
       "제주특별자치도 제주          22.3   509905893   605619   304789        NaN   300830   \n",
       "세종특별자치시 세종          19.7   328603432   204088   103210        NaN   100878   \n",
       "대전광역시 대전            24.5   585202673  1538394   772243        NaN   766151   \n",
       "\n",
       "            year  \n",
       "city              \n",
       "서울특별시 서울    2015  \n",
       "인천광역시 인천    2015  \n",
       "제주특별자치도 제주  2015  \n",
       "세종특별자치시 세종  2015  \n",
       "대전광역시 대전    2015  "
      ]
     },
     "execution_count": 11,
     "metadata": {},
     "output_type": "execute_result"
    }
   ],
   "source": [
    "total_data.head()"
   ]
  },
  {
   "cell_type": "markdown",
   "metadata": {},
   "source": [
    "여기서 필요한 정보를 제외하고는 삭제를 진행\n",
    "\n",
    "전체 남성, 전체 여성 ,내국인 남성, 외국인 여성, 외국인 남성 속성을 삭제"
   ]
  },
  {
   "cell_type": "code",
   "execution_count": null,
   "metadata": {
    "scrolled": true
   },
   "outputs": [],
   "source": [
    "#delete the non_valueable\n",
    "del data_2015['total_m']\n",
    "del data_2015['total_w']\n",
    "del data_2015['out_m']\n",
    "del data_2015['out_w']\n",
    "del data_2015['city_idx']\n",
    "del data_2016['total_m']\n",
    "del data_2016['total_w']\n",
    "del data_2016['out_m']\n",
    "del data_2016['out_w']\n",
    "del data_2016['city_idx']"
   ]
  },
  {
   "cell_type": "markdown",
   "metadata": {},
   "source": [
    "### Correlation Analysis"
   ]
  },
  {
   "cell_type": "markdown",
   "metadata": {},
   "source": [
    "상관분석은 numpy 모듈의 corrcoef를 사용함\n",
    "\n",
    "상관분석에서\n",
    "\n",
    "절댓값 0.1 이하는 무시하고\n",
    "\n",
    "절댓값 0.3 이하는 약한 상관관계를\n",
    "\n",
    "절댓값 0.7 이하는 강한 상관관계를 나타낸다"
   ]
  },
  {
   "cell_type": "markdown",
   "metadata": {},
   "source": [
    "세금을 1인당 세금 비율로 계산"
   ]
  },
  {
   "cell_type": "markdown",
   "metadata": {},
   "source": [
    "##### 우선은 범죄율과 다른 데이터들의상관관계를 분석"
   ]
  },
  {
   "cell_type": "code",
   "execution_count": null,
   "metadata": {
    "scrolled": true
   },
   "outputs": [],
   "source": [
    "print('2015년 상관관계')\n",
    "print('범죄율 / 인구수: ')\n",
    "print(np.corrcoef(data_2015['crimeRate'], data_2015['total']))\n",
    "print('범죄율 / 외국인 비율: ')\n",
    "print(np.corrcoef(data_2015['crimeRate'], data_2015['out_per']))\n",
    "print('범죄율 / 자살율: ')\n",
    "print(np.corrcoef(data_2015['crimeRate'], data_2015['suicide_rate']))\n",
    "print('범죄율 / 소득수준: ')\n",
    "print(np.corrcoef(data_2015['crimeRate'], data_2015['per_tax']))\n",
    "print('범죄율 / 교통사고사망자: ')\n",
    "print(np.corrcoef(data_2015['crimeRate'], data_2015['death']))\n",
    "print('범죄율 / 교통사고부상자: ')\n",
    "print(np.corrcoef(data_2015['crimeRate'], data_2015['injured']))\n",
    "print('범죄율 / cctv: ')\n",
    "print(np.corrcoef(data_2015['crimeRate'], data_2015['cctv']))\n"
   ]
  },
  {
   "cell_type": "markdown",
   "metadata": {},
   "source": [
    "그 다음은 인구수와 상관관계를 보려고 한다"
   ]
  },
  {
   "cell_type": "code",
   "execution_count": null,
   "metadata": {
    "scrolled": true
   },
   "outputs": [],
   "source": [
    "print('인구수 / 외국인비율: ')\n",
    "print(np.corrcoef(data_2015['total'], data_2015['out_per']))\n",
    "print('인구수 / 자살율: ')\n",
    "print(np.corrcoef(data_2015['total'], data_2015['suicide_rate']))\n",
    "print('인구수 / 소득수준: ')\n",
    "print(np.corrcoef(data_2015['total'], data_2015['per_tax']))\n",
    "print('인구수 / 교통사고사망자: ')\n",
    "print(np.corrcoef(data_2015['total'], data_2015['death']))\n",
    "print('인구수 / 교통사고부상자: ')\n",
    "print(np.corrcoef(data_2015['total'], data_2015['injured']))\n"
   ]
  },
  {
   "cell_type": "code",
   "execution_count": null,
   "metadata": {
    "scrolled": false
   },
   "outputs": [],
   "source": [
    "print('외국인비율 / 자살율: ')\n",
    "print(np.corrcoef(data_2015['out_per'], data_2015['suicide_rate']))\n",
    "print('외국인비율 / 소득수준: ')\n",
    "print(np.corrcoef(data_2015['out_per'], data_2015['per_tax']))\n",
    "print('외국인비율 / 교통사고사망자: ')\n",
    "print(np.corrcoef(data_2015['out_per'], data_2015['death']))\n",
    "print('외국인비율 / 교통사고부상자: ')\n",
    "print(np.corrcoef(data_2015['out_per'], data_2015['injured']))\n",
    "print('외국인비율 / cctv: ')\n",
    "print(np.corrcoef(data_2015['out_per'], data_2015['cctv']))"
   ]
  },
  {
   "cell_type": "code",
   "execution_count": null,
   "metadata": {
    "scrolled": false
   },
   "outputs": [],
   "source": [
    "print('자살율 / 소득수준: ')\n",
    "print(np.corrcoef(data_2015['suicide_rate'], data_2015['per_tax']))\n",
    "print('자살율 / 교통사고사망자: ')\n",
    "print(np.corrcoef(data_2015['suicide_rate'], data_2015['death']))\n",
    "print('자살율 / 교통사고부상자: ')\n",
    "print(np.corrcoef(data_2015['suicide_rate'], data_2015['injured']))\n",
    "print('자살율 / cctv: ')\n",
    "print(np.corrcoef(data_2015['suicide_rate'], data_2015['cctv']))"
   ]
  },
  {
   "cell_type": "code",
   "execution_count": null,
   "metadata": {},
   "outputs": [],
   "source": [
    "print('소득수준 / 교통사고사망자: ')\n",
    "print(np.corrcoef(data_2015['per_tax'], data_2015['death']))\n",
    "print('소득수준 / 교통사고부상자: ')\n",
    "print(np.corrcoef(data_2015['per_tax'], data_2015['injured']))\n",
    "print('소득수준 / cctv: ')\n",
    "print(np.corrcoef(data_2015['per_tax'], data_2015['cctv']))"
   ]
  },
  {
   "cell_type": "code",
   "execution_count": null,
   "metadata": {},
   "outputs": [],
   "source": [
    "print('교통사고사망자 / 교통사고부상자: ')\n",
    "print(np.corrcoef(data_2015['death'], data_2015['injured']))\n",
    "print('교통사고사망자 / cctv: ')\n",
    "print(np.corrcoef(data_2015['death'], data_2015['cctv']))"
   ]
  },
  {
   "cell_type": "code",
   "execution_count": null,
   "metadata": {},
   "outputs": [],
   "source": [
    "print('교통사고부상자 / cctv: ')\n",
    "print(np.corrcoef(data_2015['injured'], data_2015['cctv']))"
   ]
  },
  {
   "cell_type": "markdown",
   "metadata": {},
   "source": [
    "##### 2016년도"
   ]
  },
  {
   "cell_type": "code",
   "execution_count": null,
   "metadata": {
    "scrolled": true
   },
   "outputs": [],
   "source": [
    "print('2016년 상관관계')\n",
    "print('범죄율 / 인구수: ')\n",
    "print(np.corrcoef(data_2016['crimeRate'], data_2016['total']))\n",
    "print('범죄율 / 외국인 비율: ')\n",
    "print(np.corrcoef(data_2016['crimeRate'], data_2016['out_per']))\n",
    "print('범죄율 / 자살율: ')\n",
    "print(np.corrcoef(data_2016['crimeRate'], data_2016['suicide_rate']))\n",
    "print('범죄율 / 소득수준: ')\n",
    "print(np.corrcoef(data_2016['crimeRate'], data_2016['per_tax']))\n",
    "print('범죄율 / 교통사고사망자: ')\n",
    "print(np.corrcoef(data_2016['crimeRate'], data_2016['death']))\n",
    "print('범죄율 / 교통사고부상자: ')\n",
    "print(np.corrcoef(data_2016['crimeRate'], data_2016['injured']))\n",
    "print('범죄율 / cctv: ')\n",
    "print(np.corrcoef(data_2016['crimeRate'], data_2016['cctv']))\n"
   ]
  },
  {
   "cell_type": "code",
   "execution_count": null,
   "metadata": {
    "scrolled": true
   },
   "outputs": [],
   "source": [
    "print('인구수 / 외국인비율: ')\n",
    "print(np.corrcoef(data_2016['total'], data_2016['out_per']))\n",
    "print('인구수 / 자살율: ')\n",
    "print(np.corrcoef(data_2016['total'], data_2016['suicide_rate']))\n",
    "print('인구수 / 소득수준: ')\n",
    "print(np.corrcoef(data_2016['total'], data_2016['per_tax']))\n",
    "print('인구수 / 교통사고사망자: ')\n",
    "print(np.corrcoef(data_2016['total'], data_2016['death']))\n",
    "print('인구수 / 교통사고부상자: ')\n",
    "print(np.corrcoef(data_2016['total'], data_2016['injured']))\n"
   ]
  },
  {
   "cell_type": "code",
   "execution_count": null,
   "metadata": {},
   "outputs": [],
   "source": [
    "print('외국인비율 / 자살율: ')\n",
    "print(np.corrcoef(data_2016['out_per'], data_2016['suicide_rate']))\n",
    "print('외국인비율 / 소득수준: ')\n",
    "print(np.corrcoef(data_2016['out_per'], data_2016['per_tax']))\n",
    "print('외국인비율 / 교통사고사망자: ')\n",
    "print(np.corrcoef(data_2016['out_per'], data_2016['death']))\n",
    "print('외국인비율 / 교통사고부상자: ')\n",
    "print(np.corrcoef(data_2016['out_per'], data_2016['injured']))\n",
    "print('외국인비율 / cctv: ')\n",
    "print(np.corrcoef(data_2016['out_per'], data_2016['cctv']))"
   ]
  },
  {
   "cell_type": "code",
   "execution_count": null,
   "metadata": {},
   "outputs": [],
   "source": [
    "print('자살율 / 소득수준: ')\n",
    "print(np.corrcoef(data_2016['suicide_rate'], data_2016['per_tax']))\n",
    "print('자살율 / 교통사고사망자: ')\n",
    "print(np.corrcoef(data_2016['suicide_rate'], data_2016['death']))\n",
    "print('자살율 / 교통사고부상자: ')\n",
    "print(np.corrcoef(data_2016['suicide_rate'], data_2016['injured']))\n",
    "print('자살율 / cctv: ')\n",
    "print(np.corrcoef(data_2016['suicide_rate'], data_2016['cctv']))"
   ]
  },
  {
   "cell_type": "code",
   "execution_count": null,
   "metadata": {},
   "outputs": [],
   "source": [
    "print('소득수준 / 교통사고사망자: ')\n",
    "print(np.corrcoef(data_2016['per_tax'], data_2016['death']))\n",
    "print('소득수준 / 교통사고부상자: ')\n",
    "print(np.corrcoef(data_2016['per_tax'], data_2016['injured']))\n",
    "print('소득수준 / cctv: ')\n",
    "print(np.corrcoef(data_2016['per_tax'], data_2016['cctv']))"
   ]
  },
  {
   "cell_type": "code",
   "execution_count": null,
   "metadata": {},
   "outputs": [],
   "source": [
    "print('교통사고사망자 / 교통사고부상자: ')\n",
    "print(np.corrcoef(data_2016['death'], data_2016['injured']))\n",
    "print('교통사고사망자 / cctv: ')\n",
    "print(np.corrcoef(data_2016['death'], data_2016['cctv']))"
   ]
  },
  {
   "cell_type": "code",
   "execution_count": null,
   "metadata": {
    "scrolled": true
   },
   "outputs": [],
   "source": [
    "print('교통사고부상자 / cctv: ')\n",
    "print(np.corrcoef(data_2016['injured'], data_2016['cctv']))"
   ]
  },
  {
   "cell_type": "code",
   "execution_count": null,
   "metadata": {},
   "outputs": [],
   "source": []
  },
  {
   "cell_type": "code",
   "execution_count": null,
   "metadata": {},
   "outputs": [],
   "source": [
    "print('전체 상관관계')\n",
    "print('범죄율 / 인구수: ')\n",
    "print(np.corrcoef(total_data['crimeRate'], total_data['total']))\n",
    "print('범죄율 / 외국인 비율: ')\n",
    "print(np.corrcoef(total_data['crimeRate'], total_data['out_per']))\n",
    "print('범죄율 / 자살율: ')\n",
    "print(np.corrcoef(total_data['crimeRate'], total_data['suicide_rate']))\n",
    "print('범죄율 / 소득수준: ')\n",
    "print(np.corrcoef(total_data['crimeRate'], total_data['per_tax']))\n",
    "print('범죄율 / 교통사고사망자: ')\n",
    "print(np.corrcoef(total_data['crimeRate'], total_data['death']))\n",
    "print('범죄율 / 교통사고부상자: ')\n",
    "print(np.corrcoef(total_data['crimeRate'], total_data['injured']))\n",
    "print('범죄율 / cctv: ')\n",
    "print(np.corrcoef(total_data['crimeRate'], total_data['cctv']))\n"
   ]
  },
  {
   "cell_type": "code",
   "execution_count": null,
   "metadata": {},
   "outputs": [],
   "source": [
    "print('인구수 / 외국인비율: ')\n",
    "print(np.corrcoef(total_data['total'], total_data['out_per']))\n",
    "print('인구수 / 자살율: ')\n",
    "print(np.corrcoef(total_data['total'], total_data['suicide_rate']))\n",
    "print('인구수 / 소득수준: ')\n",
    "print(np.corrcoef(total_data['total'], total_data['per_tax']))\n",
    "print('인구수 / 교통사고사망자: ')\n",
    "print(np.corrcoef(total_data['total'], total_data['death']))\n",
    "print('인구수 / 교통사고부상자: ')\n",
    "print(np.corrcoef(total_data['total'], total_data['injured']))\n"
   ]
  },
  {
   "cell_type": "code",
   "execution_count": null,
   "metadata": {},
   "outputs": [],
   "source": [
    "print('외국인비율 / 자살율: ')\n",
    "print(np.corrcoef(total_data['out_per'], total_data['suicide_rate']))\n",
    "print('외국인비율 / 소득수준: ')\n",
    "print(np.corrcoef(total_data['out_per'], total_data['per_tax']))\n",
    "print('외국인비율 / 교통사고사망자: ')\n",
    "print(np.corrcoef(total_data['out_per'], total_data['death']))\n",
    "print('외국인비율 / 교통사고부상자: ')\n",
    "print(np.corrcoef(total_data['out_per'], total_data['injured']))\n",
    "print('외국인비율 / cctv: ')\n",
    "print(np.corrcoef(total_data['out_per'], total_data['cctv']))"
   ]
  },
  {
   "cell_type": "code",
   "execution_count": null,
   "metadata": {},
   "outputs": [],
   "source": [
    "print('자살율 / 소득수준: ')\n",
    "print(np.corrcoef(total_data['suicide_rate'], total_data['per_tax']))\n",
    "print('자살율 / 교통사고사망자: ')\n",
    "print(np.corrcoef(total_data['suicide_rate'], total_data['death']))\n",
    "print('자살율 / 교통사고부상자: ')\n",
    "print(np.corrcoef(total_data['suicide_rate'], total_data['injured']))\n",
    "print('자살율 / cctv: ')\n",
    "print(np.corrcoef(total_data['suicide_rate'], total_data['cctv']))"
   ]
  },
  {
   "cell_type": "code",
   "execution_count": null,
   "metadata": {},
   "outputs": [],
   "source": [
    "print('소득수준 / 교통사고사망자: ')\n",
    "print(np.corrcoef(data_2016['per_tax'], data_2016['death']))\n",
    "print('소득수준 / 교통사고부상자: ')\n",
    "print(np.corrcoef(data_2016['per_tax'], data_2016['injured']))\n",
    "print('소득수준 / cctv: ')\n",
    "print(np.corrcoef(data_2016['per_tax'], data_2016['cctv']))"
   ]
  },
  {
   "cell_type": "code",
   "execution_count": null,
   "metadata": {},
   "outputs": [],
   "source": []
  },
  {
   "cell_type": "markdown",
   "metadata": {},
   "source": [
    "### 분석결과"
   ]
  },
  {
   "cell_type": "markdown",
   "metadata": {},
   "source": [
    "#### 2015년"
   ]
  },
  {
   "cell_type": "code",
   "execution_count": null,
   "metadata": {},
   "outputs": [],
   "source": []
  },
  {
   "cell_type": "markdown",
   "metadata": {},
   "source": [
    "범죄율과 소득수준이 음의 약한 상관관계를 가졌고\n",
    "\n",
    "인구수는 자살율과 음의 약한 상관관계를 ,교통사고 사망자,부상자와는 매우 강한 양의 상관관계를 보이고,"
   ]
  },
  {
   "cell_type": "markdown",
   "metadata": {},
   "source": [
    "### DATA Visualation"
   ]
  },
  {
   "cell_type": "code",
   "execution_count": null,
   "metadata": {
    "scrolled": false
   },
   "outputs": [],
   "source": [
    "sns.pairplot(total_data, vars=[\"crimeRate\", \"suicide_rate\", \"per_tax\", \"cctv\"], kind='reg', size=5)\n",
    "plt.show()"
   ]
  },
  {
   "cell_type": "code",
   "execution_count": null,
   "metadata": {
    "scrolled": false
   },
   "outputs": [],
   "source": [
    "sns.pairplot(total_data, vars=[\"total\",  \"suicide_rate\", \"death\",\"injured\"], kind='reg', size=4)\n",
    "plt.show()"
   ]
  },
  {
   "cell_type": "code",
   "execution_count": null,
   "metadata": {
    "scrolled": false
   },
   "outputs": [],
   "source": [
    "sns.pairplot(total_data, vars=[\"out_per\", \"suicide_rate\", \"per_tax\"], kind='reg', size=3)\n",
    "plt.show()"
   ]
  },
  {
   "cell_type": "code",
   "execution_count": null,
   "metadata": {
    "scrolled": false
   },
   "outputs": [],
   "source": [
    "sns.pairplot(total_data, vars=[\"suicide_rate\", \"per_tax\", \"death\", \"injured\",\"cctv\"], kind='reg', size=5)\n",
    "plt.show()"
   ]
  },
  {
   "cell_type": "code",
   "execution_count": null,
   "metadata": {},
   "outputs": [],
   "source": [
    "sns.pairplot(total_data, vars=[\"death\", \"injured\",\"cctv\"], kind='reg', size=3)\n",
    "plt.show()"
   ]
  },
  {
   "cell_type": "code",
   "execution_count": null,
   "metadata": {},
   "outputs": [],
   "source": []
  },
  {
   "cell_type": "code",
   "execution_count": null,
   "metadata": {},
   "outputs": [],
   "source": []
  },
  {
   "cell_type": "code",
   "execution_count": null,
   "metadata": {},
   "outputs": [],
   "source": [
    "#Crime Rates\n",
    "data_2016['crimeRate'].sort_values().plot(kind='bar', grid=True, figsize=(20,12))\n",
    "plt.xlabel('범죄율')\n",
    "plt.show()"
   ]
  },
  {
   "cell_type": "code",
   "execution_count": null,
   "metadata": {},
   "outputs": [],
   "source": [
    "#Crime Rates\n",
    "data_2016['per_tax'].sort_values().plot(kind='kde',grid=True, figsize=(20,12))\n",
    "plt.xlabel('범죄율')\n",
    "plt.show()"
   ]
  },
  {
   "cell_type": "code",
   "execution_count": null,
   "metadata": {},
   "outputs": [],
   "source": [
    "#per Tax\n",
    "data_2016['per_tax'].sort_values().plot(kind='barh', grid=True, figsize=(10,20))\n",
    "plt.xlabel('인당 세금')\n",
    "plt.show()"
   ]
  },
  {
   "cell_type": "code",
   "execution_count": null,
   "metadata": {},
   "outputs": [],
   "source": [
    "plt.rcParams[\"figure.figsize\"] = (20,10)\n",
    "\n",
    "plt.plot(data_2015['district_name'], data_2015['per_tax'], '-ro')\n"
   ]
  },
  {
   "cell_type": "code",
   "execution_count": null,
   "metadata": {},
   "outputs": [],
   "source": []
  },
  {
   "cell_type": "code",
   "execution_count": null,
   "metadata": {},
   "outputs": [],
   "source": []
  },
  {
   "cell_type": "code",
   "execution_count": null,
   "metadata": {},
   "outputs": [],
   "source": []
  },
  {
   "cell_type": "code",
   "execution_count": null,
   "metadata": {},
   "outputs": [],
   "source": []
  }
 ],
 "metadata": {
  "kernelspec": {
   "display_name": "Python 3",
   "language": "python",
   "name": "python3"
  },
  "language_info": {
   "codemirror_mode": {
    "name": "ipython",
    "version": 3
   },
   "file_extension": ".py",
   "mimetype": "text/x-python",
   "name": "python",
   "nbconvert_exporter": "python",
   "pygments_lexer": "ipython3",
   "version": "3.6.5"
  }
 },
 "nbformat": 4,
 "nbformat_minor": 2
}
