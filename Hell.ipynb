{
 "cells": [
  {
   "cell_type": "markdown",
   "metadata": {},
   "source": [
    "# 위기탈출 헬 조선 (Fall-Semester Data Base Project)"
   ]
  },
  {
   "cell_type": "markdown",
   "metadata": {},
   "source": [
    "## 1. data Processing"
   ]
  },
  {
   "cell_type": "markdown",
   "metadata": {},
   "source": [
    "### 1.1 load the libraries"
   ]
  },
  {
   "cell_type": "code",
   "execution_count": 6,
   "metadata": {},
   "outputs": [],
   "source": [
    "#import the libraries For data analysis \n",
    "import sys\n",
    "import pandas as pd\n",
    "import matplotlib\n",
    "import numpy as np\n",
    "import scipy as sp\n",
    "import IPython\n",
    "import sklearn"
   ]
  },
  {
   "cell_type": "code",
   "execution_count": 7,
   "metadata": {},
   "outputs": [],
   "source": [
    "#Common Model Algorithms\n",
    "from sklearn import svm, tree, linear_model, neighbors, naive_bayes, ensemble, discriminant_analysis, gaussian_process\n",
    "\n",
    "#Common Model Helpers\n",
    "from sklearn.preprocessing import OneHotEncoder, LabelEncoder\n",
    "from sklearn import feature_selection\n",
    "from sklearn import model_selection\n",
    "from sklearn import metrics\n",
    "\n",
    "#Visualization\n",
    "import matplotlib as mpl\n",
    "import matplotlib.pyplot as plt\n",
    "import matplotlib.pylab as pylab\n",
    "import seaborn as sns\n",
    "from pandas.tools.plotting import scatter_matrix"
   ]
  },
  {
   "cell_type": "markdown",
   "metadata": {},
   "source": [
    "### 1.2Load the dataset for using this project"
   ]
  },
  {
   "cell_type": "code",
   "execution_count": 60,
   "metadata": {},
   "outputs": [],
   "source": [
    "#Load the data into variable\n",
    "traffic_data = pd.read_csv('./data/traffic/traffic-accident-2012_2017.csv')\n",
    "tax_data = pd.read_csv('./data/tax/tax_total.csv')\n",
    "crime_2015_data = pd.read_csv('./data/crime/crime-city-2015_1.csv')\n",
    "crime_2016_data = pd.read_csv('./data/crime/crime-city-2016_1.csv')\n",
    "#population_data = pd.read_csv('./data/population/population.csv')\n"
   ]
  },
  {
   "cell_type": "markdown",
   "metadata": {},
   "source": [
    "### 1.3 Create the data and Convert data"
   ]
  },
  {
   "cell_type": "markdown",
   "metadata": {},
   "source": [
    "#### 1.3.1 Convert the Traffic accident data"
   ]
  },
  {
   "cell_type": "code",
   "execution_count": 36,
   "metadata": {},
   "outputs": [
    {
     "name": "stdout",
     "output_type": "stream",
     "text": [
      "<class 'pandas.core.frame.DataFrame'>\n",
      "RangeIndex: 27255 entries, 0 to 27254\n",
      "Data columns (total 7 columns):\n",
      "발생년       27255 non-null int64\n",
      "발생년월일시    27255 non-null int64\n",
      "주야        27255 non-null object\n",
      "요일        27255 non-null object\n",
      "사망자수      27255 non-null int64\n",
      "사상자수      27255 non-null int64\n",
      "발생지       27255 non-null object\n",
      "dtypes: int64(4), object(3)\n",
      "memory usage: 1.5+ MB\n"
     ]
    }
   ],
   "source": [
    "#check the traffic dataset \n",
    "traffic_data.info()"
   ]
  },
  {
   "cell_type": "code",
   "execution_count": 9,
   "metadata": {},
   "outputs": [],
   "source": [
    "#Grouping of traffic_accident data in day using pandas 'isin'\n",
    "search_year = ['2015']\n",
    "traffic_2015 = traffic_data.loc[traffic_data['발생년'].isin(search_year),:].groupby(\"요일\").size() #2015s traffic accident\n",
    "search_year = ['2016']\n",
    "traffic_2016 = traffic_data.loc[traffic_data['발생년'].isin(search_year),:].groupby(\"요일\").size() #2016s traffic accident"
   ]
  },
  {
   "cell_type": "code",
   "execution_count": 16,
   "metadata": {},
   "outputs": [],
   "source": [
    "#Using numpy transpose series to Array\n",
    "A = np.asarray(traffic_2015)\n",
    "Traffic_day_2015 = A.transpose()\n",
    "A = np.asarray(traffic_2016)\n",
    "Traffic_day_2016= A.transpose()"
   ]
  },
  {
   "cell_type": "code",
   "execution_count": 28,
   "metadata": {
    "scrolled": true
   },
   "outputs": [
    {
     "data": {
      "text/plain": [
       "<matplotlib.legend.Legend at 0x133c55748d0>"
      ]
     },
     "execution_count": 28,
     "metadata": {},
     "output_type": "execute_result"
    },
    {
     "data": {
      "image/png": "[encoded data removed]",
      "text/plain": [
       "<Figure size 432x288 with 1 Axes>"
      ]
     },
     "metadata": {},
     "output_type": "display_data"
    }
   ],
   "source": [
    "#visulation the traffic data\n",
    "plt.plot(Traffic_day_2015, '-o', label= 'traffic_2015')\n",
    "plt.title(\"Traffic Accident Data group by day\")\n",
    "plt.plot(Traffic_day_2016, '-o', label= 'traffic_2016')\n",
    "plt.legend(loc='lower left')"
   ]
  },
  {
   "cell_type": "markdown",
   "metadata": {},
   "source": [
    "#### 1.3.2  \"4C\"the Crime_city data"
   ]
  },
  {
   "cell_type": "code",
   "execution_count": 37,
   "metadata": {},
   "outputs": [
    {
     "name": "stdout",
     "output_type": "stream",
     "text": [
      "<class 'pandas.core.frame.DataFrame'>\n",
      "RangeIndex: 38 entries, 0 to 37\n",
      "Data columns (total 57 columns):\n",
      "범죄대분류     38 non-null object\n",
      "범죄중분류     38 non-null object\n",
      "계         38 non-null int64\n",
      "서울        38 non-null int64\n",
      "부산        38 non-null int64\n",
      "대구        38 non-null int64\n",
      "인천        38 non-null int64\n",
      "광주        38 non-null int64\n",
      "대전        38 non-null int64\n",
      "울산        38 non-null int64\n",
      "경기 부천     38 non-null int64\n",
      "경기 수원     38 non-null int64\n",
      "경기 성남     38 non-null int64\n",
      "전북 전주     38 non-null int64\n",
      "경기 안양     38 non-null int64\n",
      "충북 청주     38 non-null int64\n",
      "경남 창원     38 non-null int64\n",
      "경기 광명     38 non-null int64\n",
      "경북 포항     38 non-null int64\n",
      "경기 안산     38 non-null int64\n",
      "경남 진주     38 non-null int64\n",
      "경기 고양     38 non-null int64\n",
      "제주        38 non-null int64\n",
      "전남 목포     38 non-null int64\n",
      "경기 의정부    38 non-null int64\n",
      "전북 익산     38 non-null int64\n",
      "전북 군산     38 non-null int64\n",
      "경북 구미     38 non-null int64\n",
      "충남 천안     38 non-null int64\n",
      "전남 여수     38 non-null int64\n",
      "강원 춘천     38 non-null int64\n",
      "강원 원주     38 non-null int64\n",
      "경기 평택     38 non-null int64\n",
      "경북 경주     38 non-null int64\n",
      "경남 김해     38 non-null int64\n",
      "전남 순천     38 non-null int64\n",
      "경기 군포     38 non-null int64\n",
      "경기 남양주    38 non-null int64\n",
      "강원 강릉     38 non-null int64\n",
      "충북 충주     38 non-null int64\n",
      "경북 안동     38 non-null int64\n",
      "경북 경산     38 non-null int64\n",
      "충남 아산     38 non-null int64\n",
      "경남 거제     38 non-null int64\n",
      "경북 김천     38 non-null int64\n",
      "전북 정읍     38 non-null int64\n",
      "경기 용인     38 non-null int64\n",
      "경기 시흥     38 non-null int64\n",
      "경기 파주     38 non-null int64\n",
      "경남 양산     38 non-null int64\n",
      "경기 이천     38 non-null int64\n",
      "경기 구리     38 non-null int64\n",
      "충남 서산     38 non-null int64\n",
      "충북 제천     38 non-null int64\n",
      "충남 논산     38 non-null int64\n",
      "기타도시      38 non-null int64\n",
      "도시이외      38 non-null int64\n",
      "dtypes: int64(55), object(2)\n",
      "memory usage: 17.0+ KB\n"
     ]
    }
   ],
   "source": [
    "#Check the dataset of Crime data\n",
    "crime_2015_data.info()"
   ]
  },
  {
   "cell_type": "code",
   "execution_count": 63,
   "metadata": {},
   "outputs": [
    {
     "name": "stdout",
     "output_type": "stream",
     "text": [
      "0     강력범죄\n",
      "1     강력범죄\n",
      "2     강력범죄\n",
      "3     강력범죄\n",
      "4     강력범죄\n",
      "5     강력범죄\n",
      "6     강력범죄\n",
      "7     강력범죄\n",
      "8     절도범죄\n",
      "9     폭력범죄\n",
      "10    폭력범죄\n",
      "11    폭력범죄\n",
      "12    폭력범죄\n",
      "13    폭력범죄\n",
      "14    폭력범죄\n",
      "15    폭력범죄\n",
      "16    폭력범죄\n",
      "Name: 범죄대분류, dtype: object\n"
     ]
    }
   ],
   "source": [
    "#Check the \"범죄대분류\"\n",
    "print(crime_2015_data[\"범죄대분류\"])"
   ]
  },
  {
   "cell_type": "code",
   "execution_count": 65,
   "metadata": {},
   "outputs": [],
   "source": [
    "#Clean the \"지능범죄 to 기타범죄\"\n",
    "crime_2015_data.drop(crime_2015_data.index[[range(17,38)]], inplace=True)\n",
    "crime_2016_data.drop(crime_2016_data.index[[range(17,38)]], inplace=True)"
   ]
  },
  {
   "cell_type": "code",
   "execution_count": 67,
   "metadata": {},
   "outputs": [
    {
     "name": "stdout",
     "output_type": "stream",
     "text": [
      "   범죄대분류         범죄중분류        계      서울      부산     대구      인천     광주     대전  \\\n",
      "0   강력범죄          살인기수      356      46      29     17      20      9     16   \n",
      "1   강력범죄         살인미수등      558     100      43     12      28      8      9   \n",
      "2   강력범죄            강도    1,149     260     137     51      88     47     35   \n",
      "3   강력범죄            강간    5,155   1,129     314    197     347    170    171   \n",
      "4   강력범죄          유사강간      583     123      28     37      47     21     14   \n",
      "5   강력범죄          강제추행   16,054   4,667     951    632   1,176    488    420   \n",
      "6   강력범죄  기타 강간  강제추행등      408      72      30     14      27     15     15   \n",
      "7   강력범죄            방화    1,502     286      98     68      84     38     44   \n",
      "8   절도범죄          절도범죄  203,037  46,861  16,777  9,171  10,025  6,050  6,981   \n",
      "9   폭력범죄            상해   50,028   6,949   4,637  2,863   2,289  1,309  1,415   \n",
      "10  폭력범죄            폭행  165,803  39,337   9,749  7,457  11,762  4,797  5,121   \n",
      "11  폭력범죄        체포  감금    1,318     268      77     47     132     43     30   \n",
      "12  폭력범죄            협박   15,870   3,036   1,031    600     870    400    528   \n",
      "13  폭력범죄        약취  유인      201      35      20      8      10      8      4   \n",
      "14  폭력범죄         폭력행위등   13,302   2,615   1,052    534     899    389    418   \n",
      "15  폭력범죄            공갈    3,745     694     416    192     255    114    130   \n",
      "16  폭력범죄            손괴   59,127  11,667   3,462  2,856   3,664  1,550  1,537   \n",
      "\n",
      "       울산  ...    경기 시흥  경기 파주 경남 양산 경기 이천 경기 구리 충남 서산 충북 제천 충남 논산    기타도시  \\\n",
      "0       7  ...        8      3     3     1     1     2     1     3      30   \n",
      "1      15  ...        7      2     1     0     5     3     3     0      67   \n",
      "2      33  ...        9      4     7     2     1     5     2     1      72   \n",
      "3     112  ...       57     38    31    26    30    10    14    13     367   \n",
      "4      16  ...        4      3     4     1     3     0     1     2      36   \n",
      "5     293  ...      120     85    76    64    83    56    34    26    1084   \n",
      "6       9  ...        1      1     1     1     2     1     1     0      41   \n",
      "7      38  ...       15      9     5     2    11     8     7     6     125   \n",
      "8   4,227  ...    1,500  1,291   974   632   936   674   463   526   14974   \n",
      "9   1,422  ...      343    288   312   196   184   208   174   174    5294   \n",
      "10  4,026  ...    1,742  1,180   716   854   935   374   322   141  120787   \n",
      "11     28  ...       13      6     9    11     4     4     4     3     113   \n",
      "12    461  ...      187    110    92    73    74    39    36    40    1365   \n",
      "13      3  ...        1      1     2     2     0     1     0     2      19   \n",
      "14    268  ...      153     77    79    62    69    39    19    19    1212   \n",
      "15     95  ...       31     28    15    19    14    12     7     5     313   \n",
      "16  1,500  ...      673    396   267   281   269   216   239   109    5029   \n",
      "\n",
      "     도시이외  \n",
      "0      51  \n",
      "1      49  \n",
      "2      46  \n",
      "3     366  \n",
      "4      33  \n",
      "5     743  \n",
      "6      47  \n",
      "7     135  \n",
      "8   9,839  \n",
      "9   4,325  \n",
      "10  6,291  \n",
      "11     90  \n",
      "12  1,007  \n",
      "13     12  \n",
      "14    685  \n",
      "15    218  \n",
      "16  3,080  \n",
      "\n",
      "[17 rows x 57 columns]\n"
     ]
    }
   ],
   "source": [
    "print(crime_2016_data)"
   ]
  },
  {
   "cell_type": "code",
   "execution_count": 69,
   "metadata": {},
   "outputs": [
    {
     "data": {
      "text/plain": [
       "<matplotlib.axes._subplots.AxesSubplot at 0x133c5536d30>"
      ]
     },
     "execution_count": 69,
     "metadata": {},
     "output_type": "execute_result"
    },
    {
     "data": {
      "image/png": "[encoded data removed]",
      "text/plain": [
       "<Figure size 432x288 with 1 Axes>"
      ]
     },
     "metadata": {},
     "output_type": "display_data"
    }
   ],
   "source": [
    "sns.barplot(crime_2015_data['서울'])"
   ]
  },
  {
   "cell_type": "markdown",
   "metadata": {},
   "source": [
    "## "
   ]
  },
  {
   "cell_type": "code",
   "execution_count": 56,
   "metadata": {},
   "outputs": [
    {
     "data": {
      "text/plain": [
       "Text(0.5,1,'연도별 교통사고 통계(요일별)')"
      ]
     },
     "execution_count": 56,
     "metadata": {},
     "output_type": "execute_result"
    },
    {
     "data": {
      "image/png": "[encoded data removed]",
      "text/plain": [
       "<Figure size 432x288 with 1 Axes>"
      ]
     },
     "metadata": {},
     "output_type": "display_data"
    }
   ],
   "source": [
    "#plt.plot(df_tf_2014_city[df_tf_2014_city['city']], df_tf_2014_city['amount'], label=\"2014\")\n",
    "#plt.legend(loc='upper left)\n",
    "\n",
    "#Plotting the traffic data\n",
    "#fig= plt.figure()\n",
    "#axs_traffic = fig.add_subplot(211)\n",
    "#axs_traffic.plot(traffic_accident)\n",
    "#axs_traffic.legend(loc='upper left')\n",
    "plt.plot(Traffic, '-o', label= 'traffic_data')\n",
    "#plt.plot(traffic_accident, '-o', label= 'traffic_data')\n",
    "plt.title(\"연도별 교통사고 통계(요일별)\")"
   ]
  },
  {
   "cell_type": "code",
   "execution_count": null,
   "metadata": {},
   "outputs": [],
   "source": []
  }
 ],
 "metadata": {
  "kernelspec": {
   "display_name": "Python 3",
   "language": "python",
   "name": "python3"
  },
  "language_info": {
   "codemirror_mode": {
    "name": "ipython",
    "version": 3
   },
   "file_extension": ".py",
   "mimetype": "text/x-python",
   "name": "python",
   "nbconvert_exporter": "python",
   "pygments_lexer": "ipython3",
   "version": "3.6.5"
  }
 },
 "nbformat": 4,
 "nbformat_minor": 2
}
